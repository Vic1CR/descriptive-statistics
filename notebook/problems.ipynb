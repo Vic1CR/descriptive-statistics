{
    "cells": [
        {
            "cell_type": "markdown",
            "id": "ac622319",
            "metadata": {},
            "source": [
                "# Descriptive statistics problems"
            ]
        },
        {
            "cell_type": "markdown",
            "id": "5e0ab0d5",
            "metadata": {},
            "source": [
                "### Exercise 1\n",
                "\n",
                "We will use NumPy to obtain information to describe statistically.\n",
                "\n",
                "- Generate an array of 100 elements following a normal distribution.\n",
                "- Generate an array of 100 elements following a chi-square distribution with 3 degrees of freedom.\n",
                "- Calculate the main metrics and statistical measures that best describe the two vectors."
            ]
        },
        {
            "cell_type": "code",
            "execution_count": 5,
            "id": "34720ab6",
            "metadata": {},
            "outputs": [
                {
                    "name": "stdout",
                    "output_type": "stream",
                    "text": [
                        "Normal: [-4.69755041e-01  1.06749929e+00  9.24143980e-01 -3.15023050e-01\n",
                        " -2.76344220e-03  7.73173748e-01 -4.34065252e-02 -3.55552123e-01\n",
                        " -6.24532108e-01 -1.12688507e+00 -4.63018697e-01  1.08798630e+00\n",
                        " -8.67596770e-01 -5.83631763e-01  9.94133640e-01  2.64317397e-01\n",
                        "  2.06050141e-03 -6.65144719e-01  7.70325773e-01 -1.14604269e+00\n",
                        " -1.50608797e+00  1.76940443e+00  1.15138011e+00 -5.77168958e-01\n",
                        "  1.43647260e+00 -2.07645466e+00 -6.87759255e-01 -5.38807540e-01\n",
                        " -5.30163419e-01  4.09292211e-01 -1.34271133e-01  1.11282763e+00\n",
                        " -1.88448542e-02  3.36142270e-01  9.04093577e-02 -7.81976633e-01\n",
                        " -1.33876580e+00  8.07363477e-01 -1.41738963e+00 -9.59601593e-01\n",
                        " -1.28624234e-01  6.26204456e-01  2.00725943e+00 -2.53604290e-01\n",
                        " -2.71948024e-01 -5.79018440e-02 -2.67672420e-01 -1.49729473e+00\n",
                        " -3.17057048e-01 -4.98964035e-01  8.45865754e-01 -1.59910800e-01\n",
                        "  1.37063992e+00  1.37803268e+00  1.23642160e-01  2.21934473e-01\n",
                        "  1.12740275e+00 -4.84025508e-02  8.77224069e-01  1.26020628e-01\n",
                        " -1.05330888e+00 -8.25430251e-01  4.60414729e-01  2.02882986e-01\n",
                        " -3.73177873e-01 -6.23200238e-01  6.60367377e-01 -3.77766308e-01\n",
                        "  9.75227019e-01 -4.86475446e-01  1.57509757e+00 -4.81788037e-01\n",
                        " -1.88785954e-01  1.44491598e+00 -9.62703693e-01  3.38557633e-01\n",
                        " -7.17134455e-01 -1.92509766e-01  1.17911704e-01 -6.48456715e-02\n",
                        " -1.10334479e+00  1.10792527e+00  7.25403109e-01 -1.11494694e+00\n",
                        " -2.95633523e-01  1.30508533e+00 -7.03887997e-01 -1.85829989e+00\n",
                        "  1.52926227e+00  7.47975853e-01  8.92942495e-01  3.27403352e+00\n",
                        " -9.44502127e-01  4.89835805e-01 -3.65923981e-02 -8.45543710e-01\n",
                        " -6.41182182e-01  7.98823605e-01  5.44090502e-01  1.29725619e-02]\n",
                        "chi-cuadrado: [ 6.96752461  7.05909724  1.66570531  2.60281297  0.46019296  4.48902981\n",
                        "  1.25013059  8.31766678  3.46349438  2.04134716  4.7521694   0.56141239\n",
                        "  4.0178502   3.19979283  1.25064229  2.97554063  0.22520022  0.03273278\n",
                        "  0.19804522  4.25081606  2.91315249  2.5462371   3.13030129  7.21113173\n",
                        "  0.72866849  1.03311347  0.47047334  4.43686201  1.81822412  3.46369015\n",
                        "  0.50559396  2.23175564  1.35418734  3.1253515   7.97404682  3.35675656\n",
                        "  2.26301493  3.59866372  2.44188909  0.54730649  2.30922705  0.64627403\n",
                        "  6.45995768  4.73499901  1.64532926  5.58046155  1.91441804  4.81520853\n",
                        "  3.10535173  2.42230212  0.8076053   1.28936081  1.46477331  0.93094967\n",
                        "  3.36960111  7.67270827  1.40042607  1.32401132  0.68406695  1.09264368\n",
                        "  1.55399248  2.82011506  7.97571241  6.49708446  3.05517992  8.22188403\n",
                        "  0.54296696  5.01245348  3.69090167  0.57329999  3.40910243  1.68343143\n",
                        "  2.54208207  7.21273659  2.21255442  0.54969519  2.63867902  0.35001762\n",
                        "  3.25554878  0.61440312  0.99836066  3.46913358  2.77520863  0.71398566\n",
                        " 10.46245823  0.85810076  4.74542019  5.722884    0.16342898  5.79744169\n",
                        "  0.74336679  2.87491944  5.29442281  5.23103571  4.17324444  0.51847608\n",
                        "  3.05468409  5.42530445  1.8946748   2.52837949]\n"
                    ]
                }
            ],
            "source": [
                "import numpy as np\n",
                "import scipy.stats as stats\n",
                "\n",
                "n_array = np.random.normal(size = 100)\n",
                "chi = np.random.chisquare(3, 100)\n",
                "\n",
                "print(f\"Normal: {n_array}\")\n",
                "print(f\"chi-cuadrado: {chi}\")\n",
                "\n"
            ]
        },
        {
            "cell_type": "code",
            "execution_count": 6,
            "id": "2e0659cb",
            "metadata": {},
            "outputs": [
                {
                    "name": "stdout",
                    "output_type": "stream",
                    "text": [
                        "Metricas para el array normal:\n",
                        "Media: 0.042818\n",
                        "Mediana: -0.053152\n",
                        "Desviación estandar: 0.920083\n",
                        "Varianza: 0.846553\n",
                        "Curtosis: 0.390652\n",
                        "Asimetria: 0.419454\n",
                        "\n",
                        "Metricas para el array chi-cuadrado\n",
                        "Media: 3.004581\n",
                        "Mediana: 2.574525\n",
                        "Desviación estandar: 2.294866\n",
                        "Varianza: 5.266409\n",
                        "Curtosis: 0.277276\n",
                        "Asimetria: 0.932741\n"
                    ]
                }
            ],
            "source": [
                "def calcu_metricas(array):\n",
                "    metricas = {\n",
                "        \"Media\": np.mean(array),\n",
                "        \"Mediana\": np.median(array),\n",
                "        \"Desviación estandar\": np.std(array),\n",
                "        \"Varianza\": np.var(array),\n",
                "        \"Curtosis\": stats.kurtosis(array),\n",
                "        \"Asimetria\": stats.skew(array)\n",
                "    }\n",
                "    return metricas\n",
                "\n",
                "metricas_normal = calcu_metricas(n_array)\n",
                "print(\"Metricas para el array normal:\")\n",
                "for clave, valor in metricas_normal.items():\n",
                "    print(f\"{clave}: {valor:f}\")\n",
                "\n",
                "metricas_chi = calcu_metricas(chi)\n",
                "print(\"\\nMetricas para el array chi-cuadrado\")\n",
                "for clave, valor in metricas_chi.items():\n",
                "    print(f\"{clave}: {valor:f}\")"
            ]
        },
        {
            "cell_type": "markdown",
            "id": "46c70c3d",
            "metadata": {},
            "source": [
                "### Exercise 2\n",
                "\n",
                "Write a Python program to calculate the standard deviation of the following data:\n",
                "\n",
                "```py\n",
                "data = [4, 2, 5, 8, 6]\n",
                "```"
            ]
        },
        {
            "cell_type": "code",
            "execution_count": 7,
            "id": "d590308e",
            "metadata": {},
            "outputs": [
                {
                    "name": "stdout",
                    "output_type": "stream",
                    "text": [
                        "La desviación estandar del conjunto de datos es: 2.0\n"
                    ]
                }
            ],
            "source": [
                "import numpy as np\n",
                "\n",
                "data = [4, 2, 5, 8, 6]\n",
                "\n",
                "std_dev = np.std(data)\n",
                "\n",
                "print(f\"La desviación estandar del conjunto de datos es: {std_dev}\")"
            ]
        }
    ],
    "metadata": {
        "kernelspec": {
            "display_name": "Python 3",
            "language": "python",
            "name": "python3"
        },
        "language_info": {
            "codemirror_mode": {
                "name": "ipython",
                "version": 3
            },
            "file_extension": ".py",
            "mimetype": "text/x-python",
            "name": "python",
            "nbconvert_exporter": "python",
            "pygments_lexer": "ipython3",
            "version": "3.11.4"
        }
    },
    "nbformat": 4,
    "nbformat_minor": 5
}
